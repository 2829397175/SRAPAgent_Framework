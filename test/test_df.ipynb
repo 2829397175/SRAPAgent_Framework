{
 "cells": [
  {
   "cell_type": "code",
   "execution_count": 1,
   "metadata": {},
   "outputs": [
    {
     "ename": "ValueError",
     "evalue": "all arrays must be same length",
     "output_type": "error",
     "traceback": [
      "\u001b[1;31m---------------------------------------------------------------------------\u001b[0m",
      "\u001b[1;31mValueError\u001b[0m                                Traceback (most recent call last)",
      "\u001b[1;32md:\\多智能体项目\\publicHousing\\test\\test_df.ipynb Cell 1\u001b[0m line \u001b[0;36m3\n\u001b[0;32m      <a href='vscode-notebook-cell:/d%3A/%E5%A4%9A%E6%99%BA%E8%83%BD%E4%BD%93%E9%A1%B9%E7%9B%AE/publicHousing/test/test_df.ipynb#W0sZmlsZQ%3D%3D?line=0'>1</a>\u001b[0m \u001b[39mimport\u001b[39;00m \u001b[39mpandas\u001b[39;00m \u001b[39mas\u001b[39;00m \u001b[39mpd\u001b[39;00m\n\u001b[1;32m----> <a href='vscode-notebook-cell:/d%3A/%E5%A4%9A%E6%99%BA%E8%83%BD%E4%BD%93%E9%A1%B9%E7%9B%AE/publicHousing/test/test_df.ipynb#W0sZmlsZQ%3D%3D?line=2'>3</a>\u001b[0m index \u001b[39m=\u001b[39mpd\u001b[39m.\u001b[39;49mMultiIndex\u001b[39m.\u001b[39;49mfrom_arrays(\n\u001b[0;32m      <a href='vscode-notebook-cell:/d%3A/%E5%A4%9A%E6%99%BA%E8%83%BD%E4%BD%93%E9%A1%B9%E7%9B%AE/publicHousing/test/test_df.ipynb#W0sZmlsZQ%3D%3D?line=3'>4</a>\u001b[0m             [[ \u001b[39m\"\u001b[39;49m\u001b[39msw\u001b[39;49m\u001b[39m\"\u001b[39;49m,\u001b[39m\"\u001b[39;49m\u001b[39mleast_misery\u001b[39;49m\u001b[39m\"\u001b[39;49m,\u001b[39m\"\u001b[39;49m\u001b[39mvariance\u001b[39;49m\u001b[39m\"\u001b[39;49m\u001b[39m\"\u001b[39;49m\u001b[39mjain\u001b[39;49m\u001b[39m'\u001b[39;49m\u001b[39msfair\u001b[39;49m\u001b[39m\"\u001b[39;49m,\u001b[39m\"\u001b[39;49m\u001b[39mmin_max_ratio\u001b[39;49m\u001b[39m\"\u001b[39;49m,\u001b[39m\"\u001b[39;49m\u001b[39mF(W,G)\u001b[39;49m\u001b[39m\"\u001b[39;49m,\u001b[39m\"\u001b[39;49m\u001b[39mGINI_index\u001b[39;49m\u001b[39m\"\u001b[39;49m],\n\u001b[0;32m      <a href='vscode-notebook-cell:/d%3A/%E5%A4%9A%E6%99%BA%E8%83%BD%E4%BD%93%E9%A1%B9%E7%9B%AE/publicHousing/test/test_df.ipynb#W0sZmlsZQ%3D%3D?line=4'>5</a>\u001b[0m             [\u001b[39m\"\u001b[39;49m\u001b[39mSatisfaction\u001b[39;49m\u001b[39m\"\u001b[39;49m,\u001b[39m\"\u001b[39;49m\u001b[39mFairness\u001b[39;49m\u001b[39m\"\u001b[39;49m,\u001b[39m\"\u001b[39;49m\u001b[39mFairness\u001b[39;49m\u001b[39m\"\u001b[39;49m,\u001b[39m\"\u001b[39;49m\u001b[39mFairness\u001b[39;49m\u001b[39m\"\u001b[39;49m,\u001b[39m\"\u001b[39;49m\u001b[39mFairness\u001b[39;49m\u001b[39m\"\u001b[39;49m,\u001b[39m\"\u001b[39;49m\u001b[39mFairness\u001b[39;49m\u001b[39m\"\u001b[39;49m,\u001b[39m\"\u001b[39;49m\u001b[39mFairness\u001b[39;49m\u001b[39m\"\u001b[39;49m ] ], names\u001b[39m=\u001b[39;49m(\u001b[39m'\u001b[39;49m\u001b[39mtype_indicator\u001b[39;49m\u001b[39m'\u001b[39;49m, \u001b[39m'\u001b[39;49m\u001b[39meval_type\u001b[39;49m\u001b[39m'\u001b[39;49m))\n",
      "File \u001b[1;32md:\\miniconda\\envs\\agentverse\\lib\\site-packages\\pandas\\core\\indexes\\multi.py:504\u001b[0m, in \u001b[0;36mMultiIndex.from_arrays\u001b[1;34m(cls, arrays, sortorder, names)\u001b[0m\n\u001b[0;32m    502\u001b[0m \u001b[39mfor\u001b[39;00m i \u001b[39min\u001b[39;00m \u001b[39mrange\u001b[39m(\u001b[39m1\u001b[39m, \u001b[39mlen\u001b[39m(arrays)):\n\u001b[0;32m    503\u001b[0m     \u001b[39mif\u001b[39;00m \u001b[39mlen\u001b[39m(arrays[i]) \u001b[39m!=\u001b[39m \u001b[39mlen\u001b[39m(arrays[i \u001b[39m-\u001b[39m \u001b[39m1\u001b[39m]):\n\u001b[1;32m--> 504\u001b[0m         \u001b[39mraise\u001b[39;00m \u001b[39mValueError\u001b[39;00m(\u001b[39m\"\u001b[39m\u001b[39mall arrays must be same length\u001b[39m\u001b[39m\"\u001b[39m)\n\u001b[0;32m    506\u001b[0m codes, levels \u001b[39m=\u001b[39m factorize_from_iterables(arrays)\n\u001b[0;32m    507\u001b[0m \u001b[39mif\u001b[39;00m names \u001b[39mis\u001b[39;00m lib\u001b[39m.\u001b[39mno_default:\n",
      "\u001b[1;31mValueError\u001b[0m: all arrays must be same length"
     ]
    }
   ],
   "source": [
    "import pandas as pd\n",
    "\n",
    "index =pd.MultiIndex.from_arrays(\n",
    "            [[ \"sw\",\"least_misery\",\"variance\"\"jain'sfair\",\"min_max_ratio\",\"F(W,G)\",\"GINI_index\"],\n",
    "            [\"Satisfaction\",\"Fairness\",\"Fairness\",\"Fairness\",\"Fairness\",\"Fairness\",\"Fairness\" ] ], names=('type_indicator', 'eval_type'))\n"
   ]
  },
  {
   "cell_type": "code",
   "execution_count": 2,
   "metadata": {},
   "outputs": [
    {
     "name": "stdout",
     "output_type": "stream",
     "text": [
      "6\n"
     ]
    }
   ],
   "source": [
    "a=[[ \"sw\",\"least_misery\",\"variance\"\"jain'sfair\",\"min_max_ratio\",\"F(W,G)\",\"GINI_index\"],\n",
    "            [\"Satisfaction\",\"Fairness\",\"Fairness\",\"Fairness\",\"Fairness\",\"Fairness\",\"Fairness\" ] ]\n",
    "\n",
    "# assert len(a[0]) == len(a[1])\n",
    "print(len(a[0]))\n"
   ]
  }
 ],
 "metadata": {
  "kernelspec": {
   "display_name": "agentverse",
   "language": "python",
   "name": "python3"
  },
  "language_info": {
   "codemirror_mode": {
    "name": "ipython",
    "version": 3
   },
   "file_extension": ".py",
   "mimetype": "text/x-python",
   "name": "python",
   "nbconvert_exporter": "python",
   "pygments_lexer": "ipython3",
   "version": "3.9.16"
  }
 },
 "nbformat": 4,
 "nbformat_minor": 2
}
